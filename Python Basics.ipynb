{
 "cells": [
  {
   "cell_type": "code",
   "execution_count": 19,
   "id": "59af893d",
   "metadata": {},
   "outputs": [
    {
     "data": {
      "text/plain": [
       "str"
      ]
     },
     "execution_count": 19,
     "metadata": {},
     "output_type": "execute_result"
    }
   ],
   "source": [
    "# variable declaration\n",
    "a = 2\n",
    "b = 3.14\n",
    "c = \"Crazy Codigo + iNeuron\"\n",
    "\n",
    "type(c)"
   ]
  },
  {
   "cell_type": "code",
   "execution_count": 21,
   "id": "b302d975",
   "metadata": {},
   "outputs": [
    {
     "name": "stdout",
     "output_type": "stream",
     "text": [
      "Building your first ML model\n",
      "With Crazy Codigo + iNeuron\n"
     ]
    }
   ],
   "source": [
    "# printing on screen\n",
    "print(\"Building your first ML model\")\n",
    "print(\"With\", c)"
   ]
  },
  {
   "cell_type": "code",
   "execution_count": 8,
   "id": "41dfa046",
   "metadata": {},
   "outputs": [
    {
     "name": "stdout",
     "output_type": "stream",
     "text": [
      "Enter a something: Crazy Codigo\n",
      "Crazy Codigo <class 'str'>\n"
     ]
    }
   ],
   "source": [
    "# taking input\n",
    "a = input(\"Enter a something: \")\n",
    "print(a, type(a))"
   ]
  },
  {
   "cell_type": "code",
   "execution_count": 10,
   "id": "0d1412e0",
   "metadata": {},
   "outputs": [
    {
     "name": "stdout",
     "output_type": "stream",
     "text": [
      "Enter a number: 5\n",
      "Enter a number: 2\n",
      "Enter a number: 1\n",
      "5 is the greatest\n"
     ]
    }
   ],
   "source": [
    "# if elif else\n",
    "\n",
    "a = int(input(\"Enter a number: \"))\n",
    "b = int(input(\"Enter a number: \"))\n",
    "c = int(input(\"Enter a number: \"))\n",
    "if(a>b and a>c):\n",
    "    print(a, \"is the greatest\")\n",
    "elif(b>c and b>c):\n",
    "    print(b, \"is the greatest\")\n",
    "else:\n",
    "    print(c, \"is the greatest\")"
   ]
  },
  {
   "cell_type": "code",
   "execution_count": 12,
   "id": "0b9a7d8f",
   "metadata": {},
   "outputs": [
    {
     "name": "stdout",
     "output_type": "stream",
     "text": [
      "0 -1 2 -1 4 -1 6 -1 8 -1 "
     ]
    }
   ],
   "source": [
    "# for loop\n",
    "for i in range(10):\n",
    "    if i % 2 == 0:\n",
    "        print(i, end=' ')\n",
    "    else:\n",
    "        print(-1, end=' ')"
   ]
  },
  {
   "cell_type": "code",
   "execution_count": 15,
   "id": "cac10484",
   "metadata": {},
   "outputs": [
    {
     "name": "stdout",
     "output_type": "stream",
     "text": [
      "Enter a number: 234\n",
      "432\n"
     ]
    }
   ],
   "source": [
    "# while loop\n",
    "n = int(input(\"Enter a number: \"))\n",
    "rev = 0\n",
    "while n>0:\n",
    "    rev = (rev*10) + (n%10)\n",
    "    n //= 10\n",
    "print(rev)"
   ]
  },
  {
   "cell_type": "code",
   "execution_count": 18,
   "id": "56fb4b06",
   "metadata": {},
   "outputs": [
    {
     "name": "stdout",
     "output_type": "stream",
     "text": [
      "The list is:  [1, 2, 3, 4, 5]\n",
      "The even elements are: \n",
      "2\n",
      "4\n",
      "new list:  [2, 2, 4, 4, 6]\n"
     ]
    }
   ],
   "source": [
    "# lists\n",
    "l = [1,2,3,4,5]\n",
    "print(\"The list is: \", l)\n",
    "print(\"The even elements are: \")\n",
    "for i in range(len(l)):\n",
    "    if l[i] % 2 == 0:\n",
    "        print(l[i])\n",
    "    else:\n",
    "        l[i] = l[i] + 1\n",
    "print(\"new list: \", l)"
   ]
  }
 ],
 "metadata": {
  "kernelspec": {
   "display_name": "Python 3 (ipykernel)",
   "language": "python",
   "name": "python3"
  },
  "language_info": {
   "codemirror_mode": {
    "name": "ipython",
    "version": 3
   },
   "file_extension": ".py",
   "mimetype": "text/x-python",
   "name": "python",
   "nbconvert_exporter": "python",
   "pygments_lexer": "ipython3",
   "version": "3.9.12"
  }
 },
 "nbformat": 4,
 "nbformat_minor": 5
}
